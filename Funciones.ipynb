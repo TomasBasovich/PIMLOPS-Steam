{
 "cells": [
  {
   "cell_type": "code",
   "execution_count": null,
   "metadata": {},
   "outputs": [],
   "source": [
    "from fastapi import FastAPI\n",
    "import pandas as pd\n",
    "from typing import List, Dict, Any\n",
    "import pyarrow\n",
    "import json"
   ]
  },
  {
   "cell_type": "code",
   "execution_count": null,
   "metadata": {},
   "outputs": [],
   "source": [
    "#Cargamos el archivo parquet en un dataframe\n",
    "df_steam_games = pd.read_parquet('Steam_Games.parquet')\n",
    "#Seleccionamos las columnas que queremos utilizar del dataframe y las cargamos en un nuevo dataframe\n",
    "steam_games = df_steam_games[[\"Developer\", \"Is Free To Play\", \"Release Date\"]]"
   ]
  },
  {
   "cell_type": "code",
   "execution_count": null,
   "metadata": {},
   "outputs": [],
   "source": [
    "def Developer(Developer:str):\n",
    "    #Filtramos el dataframe \"steam_games\" para obtener solo las filas donde el valor de la columna \"Developer\" es igual al argumento de la función.\n",
    "    Developer = steam_games[steam_games['Developer']==Developer]\n",
    "    #Sumamos todos los valores de la columna \"Is Free To Play\" en el dataframe filtrado. Esto nos da el total de juegos gratuitos del desarrollador.\n",
    "    juegos_gratuitos = Developer[\"Is Free To Play\"].sum()\n",
    "    #Obtenemos el numero total de juegos del desarrollador contando el numero de filas en el dataframe filtrado\n",
    "    total_juegos = len(Developer)\n",
    "    #Calculamos el porcentaje de juegos gratuitos dividiendo el numero de juegos gratuitos entre el numero total de juegos y multiplicando por 100\n",
    "    porcentaje_de_gratuitos = (juegos_gratuitos/total_juegos) * 100\n",
    "    \n",
    "    #Agrupamos el dataframe filtrado por la columna \"Release Date\" y contamos el numero de juegos por año\n",
    "    juegos_por_año = Developer.groupby(Developer[\"Release Date\"]).size()\n",
    "    #Filtramos el dataframe para obtener solo los juegos gratuitos y luego agrupamos por la columna \"Release Date\" y contamos el numero de juegos gratuitos por año.\n",
    "    juegos_gratuitos_por_año = Developer[Developer[\"Is Free To Play\"]== True].groupby(Developer['Release Date']).size()\n",
    "    #Reindexamos el dataframe de juegos gratuitos por año para que tenga el mismo indice que el dataframe de juegos por año, llenando los valores faltantes con 0.\n",
    "    juegos_gratuitos_por_año = juegos_gratuitos_por_año.reindex(juegos_por_año.index, fill_value=0)\n",
    "    #Calculamos el porcentaje de juegos gratuitos por año dividiendo el numero de juegos gratuitos por año entre el numero total de juegos por año y multiplicando por 100\n",
    "    porcentaje_de_juegos_gratis_anual = (juegos_gratuitos_por_año/juegos_por_año) * 100\n",
    "    \n",
    "    #La función devuelve un diccionario con el porcentaje total de juegos gratuitos y el porcentaje de juegos gratuitos por año, ambos redondeados a dos decimales\n",
    "    return{\"Porcentaje Gratuito\": (porcentaje_de_gratuitos).round(2) + \"%\",\n",
    "           \"Porcentaje Gratuito Anual\" : (porcentaje_de_juegos_gratis_anual).round(2) + \"%\"}"
   ]
  },
  {
   "cell_type": "code",
   "execution_count": null,
   "metadata": {},
   "outputs": [],
   "source": [
    "def Userdata(user_id: str):\n",
    "    #Se inicializan 4 variables en 0 para almacenar datos\n",
    "    cantidad = 0\n",
    "    recommend_count = 0\n",
    "    total_reviews = 0\n",
    "    item_id = set()\n",
    "    \n",
    "    #Cargamos los dos conjuntos de datos desde archivos parquet\n",
    "    user_reviews = pd.read_parquet('User_Reviews.parquet')\n",
    "    steam_games = pd.read_parquet('Steam_Games.parquet')\n",
    "    \n",
    "    #Filtramos el dataframe \"user_reviews\" para obtener solo las filas donde el valor de la columna \"User ID\" es igual al argumento de la funcion\n",
    "    user_reviews1 = user_reviews[user_reviews['User ID']==user_id]\n",
    "    \n",
    "    #Sumamos todos los valores de la columna \"Price\" en el dataframe resultante de la fusión de \"user_reviews1\" y \"steam_games\" en la columna \"Item ID\"\n",
    "    #Esto nos da la cantidad de dinero gastado por el usuario\n",
    "    cantidad += user_reviews1.merge(steam_games[['ID','Price']], left_on='Item ID', right_on='ID', how='inner')['Price'].sum()\n",
    "    #Sumamos todos los valores de la columna \"Recommend\" en el dataframe \"user_reviews1\". Esto nos da el total de reseñas recomendadas por el usuario.\n",
    "    recommend_count += user_reviews1['Recommend'].sum()\n",
    "    #Contamos el numero total de reseñas del usuario contando el numero de filas en el dataframe \"user_reviews1\"\n",
    "    total_reviews += len(user_reviews1)\n",
    "    #Actualizamos el conjunto \"item_id\" con los identificadores únicos de los items que el usario ha reseñado\n",
    "    item_id.update(user_reviews1['Item ID'].unique())\n",
    "    \n",
    "    #Si el total de reseñas es mayor que 0, calculamos el porcentaje de reseñas recomendadas. Si no hay reseñas, el porcentaje se establece en 0.\n",
    "    if total_reviews > 0:\n",
    "        porcentaje = (recommend_count/total_reviews) * 100\n",
    "    else:\n",
    "        porcentaje = 0\n",
    "    \n",
    "    #Contamos la cantidad de items únicos que el usario ha reseñado\n",
    "    cantidad_de_items = len(item_id)\n",
    "    \n",
    "    #Creamos un diccionario que contiene la cantidad de dinero gastado, el porcentaje de reseñas recomendadas y el número de items únicos que el usuario ha reseñado\n",
    "    user_data ={\n",
    "        \"Money Spent\": cantidad,\n",
    "        \"Recommend Percentage\": porcentaje,\n",
    "        \"Number of Items\": cantidad_de_items\n",
    "    }\n",
    "    \n",
    "    #La función devuelve el diccionario \"user_data\"\n",
    "    return user_data"
   ]
  },
  {
   "cell_type": "code",
   "execution_count": null,
   "metadata": {},
   "outputs": [],
   "source": [
    "def Best_developer_year(año: int):\n",
    "    # Cargar los dataframes\n",
    "    user_reviews = pd.read_parquet('User_Reviews.parquet')\n",
    "    steam_games = pd.read_parquet('Steam_Games.parquet')\n",
    "\n",
    "    # Fusionar los dataframes en el Item ID\n",
    "    merged_df = pd.merge(user_reviews, steam_games, left_on='Item ID', right_on='ID')\n",
    "\n",
    "    # Filtrar por año y reseñas positivas\n",
    "    filtered_df = merged_df[(merged_df['Release Date'] == año) & (merged_df['Recommend'] == True)]\n",
    "\n",
    "    # Contar las reseñas positivas por desarrollador\n",
    "    developer_counts = filtered_df['Developer'].value_counts()\n",
    "\n",
    "    # Obtener el top 3 de desarrolladores\n",
    "    top_developers = developer_counts.nlargest(3).index.tolist()\n",
    "\n",
    "    # Crear el diccionario de retorno\n",
    "    if len(top_developers) >= 3:\n",
    "        resultado = [{\"Puesto 1\": top_developers[0]}, {\"Puesto 2\": top_developers[1]}, {\"Puesto 3\": top_developers[2]}]\n",
    "    elif len(top_developers) == 2:\n",
    "        resultado = [{\"Puesto 1\": top_developers[0]}, {\"Puesto 2\": top_developers[1]}]\n",
    "    elif len(top_developers) == 1:\n",
    "        resultado = [{\"Puesto 1\": top_developers[0]}]\n",
    "    else:\n",
    "        resultado = []\n",
    "\n",
    "    return resultado"
   ]
  }
 ],
 "metadata": {
  "kernelspec": {
   "display_name": "PIvenv",
   "language": "python",
   "name": "python3"
  },
  "language_info": {
   "name": "python",
   "version": "3.11.2"
  }
 },
 "nbformat": 4,
 "nbformat_minor": 2
}
